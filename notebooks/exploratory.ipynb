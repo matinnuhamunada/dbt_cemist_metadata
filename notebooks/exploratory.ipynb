{
 "cells": [
  {
   "cell_type": "code",
   "execution_count": null,
   "id": "a12574f1",
   "metadata": {},
   "outputs": [],
   "source": [
    "import yaml\n",
    "import pandas as pd\n",
    "from pathlib import Path\n",
    "\n",
    "import logging\n",
    "\n",
    "\n",
    "log_format = \"%(levelname)-8s %(asctime)s   %(message)s\"\n",
    "date_format = \"%d/%m %H:%M:%S\"\n",
    "logging.basicConfig(format=log_format, datefmt=date_format, level=logging.DEBUG)\n",
    "\n",
    "\n",
    "\n",
    "def clean_raw_excel_cemist_metadata(dbt_profile_path, outdir = \"data_warehouse/soil\", column_to_exclude = ['Sample no.', 'Created from CeMiSt A Code', 'CeMiSt\\nPlasmid ID', 'Extract no.']):\n",
    "    dbt_profile_path = Path(dbt_profile_path)\n",
    "    dbt_dir = dbt_profile_path.parent\n",
    "\n",
    "    logging.debug(f\"Using dbt profile from directory: {dbt_dir.resolve()}\")\n",
    "    \n",
    "    with open(str(dbt_profile_path), \"r\") as f:\n",
    "        profile = yaml.safe_load(f)\n",
    "\n",
    "    \n",
    "    external_root = dbt_dir / profile[\"dbt_cemist\"][\"outputs\"][\"dev\"][\"external_root\"]\n",
    "    logging.debug(f\"Reading external data from: {external_root.resolve()}\")\n",
    "    \n",
    "    metadata = {}\n",
    "\n",
    "    logging.info(\"Processing excel files...\")\n",
    "    logging.debug(f\"Excluding columns: {column_to_exclude}\")\n",
    "    excel_files = [i for i in external_root.glob(\"*.xlsx\") if i.name.startswith(\"CeMiSt\")]\n",
    "    for m in excel_files:\n",
    "        logging.debug(f\"Reading file: {m.name}\")\n",
    "        metadata_id = m.stem.replace(\" \", \"__\")    \n",
    "        df = pd.read_excel(m)\n",
    "        logging.debug(\"Dropping empty rows...\")\n",
    "        logging.debug(f\"Original row length: {len(df)}\")\n",
    "        df = df[df[[i for i in df.columns if i not in column_to_exclude]].notna().any(axis=1)]\n",
    "        logging.debug(f\"Cleaned row length: {len(df)}\")\n",
    "        metadata[metadata_id] = {\"path\" : m, \"dataframe\" : df}\n",
    "\n",
    "    logging.debug(f\"Replacing illegal SQL column character with '_'\")\n",
    "    for k, v in metadata.items():\n",
    "        df = v[\"dataframe\"]\n",
    "        df.columns = df.columns.map(lambda x: x.replace(' ', '_').replace('\\n', '').replace(\"(\", \"_\").replace(\")\", \"_\").replace(\",\", \"_\").replace(\".\", \"_\").replace(\"/\", \"_\").replace(\"?\", \"_\").lower())\n",
    "        v[\"dataframe\"] = df\n",
    "\n",
    "    logging.info(f\"Writing output files to: {outdir}\")\n",
    "    outdir = Path(outdir)\n",
    "    outdir.mkdir(parents=True, exist_ok=True)\n",
    "    for k, v in metadata.items():\n",
    "        outfile = outdir / f\"{k}.parquet\"\n",
    "        logging.info(f\"Converting {k} to parquet: {outfile}\")\n",
    "        df = v[\"dataframe\"]\n",
    "        if 'date' in df.columns:\n",
    "            df['date'] = pd.to_datetime(df['date'], errors='coerce').dt.strftime('%d-%m-%Y')\n",
    "        prefix = k.split(\"_\")\n",
    "        prefix = \"\".join([prefix[1][0], prefix[2][0], prefix[0][:2]])\n",
    "        pid_terms = [\"sample_no_\", \"extract_no_\", \"cemistplasmid_id\"]\n",
    "        for pid_term in pid_terms:\n",
    "            if pid_term in df.columns:\n",
    "                logging.debug(f\"Using {pid_term} to label items in {k} with prefix: {prefix}\")\n",
    "                df['pid'] = df[pid_term].apply(lambda x: f\"{prefix}{str(x).zfill(4)}\")\n",
    "                df = df.set_index('pid')\n",
    "        df = df.astype(str)\n",
    "        logging.info(f\"Writing output files: {outfile}\")\n",
    "        df.to_parquet(outfile)\n",
    "        df.to_csv(str(outfile).replace(\".parquet\", \".csv\"))"
   ]
  },
  {
   "cell_type": "code",
   "execution_count": null,
   "id": "1d2e93ca",
   "metadata": {},
   "outputs": [],
   "source": [
    "clean_raw_excel_cemist_metadata(dbt_profile_path, outdir = \"data_warehouse/soil\")"
   ]
  },
  {
   "cell_type": "code",
   "execution_count": null,
   "id": "593898ce",
   "metadata": {},
   "outputs": [],
   "source": []
  },
  {
   "cell_type": "code",
   "execution_count": null,
   "id": "8a2f9972",
   "metadata": {},
   "outputs": [],
   "source": []
  },
  {
   "cell_type": "code",
   "execution_count": null,
   "id": "19b1651b-001c-4544-b8a2-88d7ee40a287",
   "metadata": {},
   "outputs": [],
   "source": []
  },
  {
   "cell_type": "code",
   "execution_count": null,
   "id": "4d1fe713-3d76-42cc-8b34-839f5d231f7b",
   "metadata": {},
   "outputs": [],
   "source": []
  },
  {
   "cell_type": "code",
   "execution_count": null,
   "id": "1f2754ae-baac-4b7d-bbd7-03d200f923ea",
   "metadata": {},
   "outputs": [],
   "source": [
    "for k, v in metadata.items():\n",
    "    print(k)"
   ]
  },
  {
   "cell_type": "code",
   "execution_count": null,
   "id": "2994bc0d-bb43-49cd-881a-739d80b69591",
   "metadata": {},
   "outputs": [],
   "source": [
    "metadata['CeMiSt_Soil_B__Label__-__Environmental__analysis'][\"dataframe\"].head(2)"
   ]
  },
  {
   "cell_type": "code",
   "execution_count": null,
   "id": "abde258d-1089-40e5-aa90-295399d2b845",
   "metadata": {},
   "outputs": [],
   "source": [
    "metadata['CeMiSt_Soil_A__Label__-__Environmental__Samples'][\"dataframe\"].head(2)"
   ]
  },
  {
   "cell_type": "code",
   "execution_count": null,
   "id": "474a135c-7ea2-4a8d-90dc-3c29db73f20c",
   "metadata": {},
   "outputs": [],
   "source": [
    "label = 'CeMiSt_Soil_A__Label__-__Environmental__Samples'\n",
    "df = metadata['CeMiSt_Soil_A__Label__-__Environmental__Samples'][\"dataframe\"]\n",
    "prefix = label.split(\"_\")\n",
    "prefix = \"\".join([prefix[1][0], prefix[2][0], prefix[0][:2]])"
   ]
  },
  {
   "cell_type": "code",
   "execution_count": null,
   "id": "371452f9-cf38-497e-bfcb-7d79ba0d912e",
   "metadata": {},
   "outputs": [],
   "source": [
    "df['pid'] = df['sample_no_'].apply(lambda x: f\"{prefix}{str(x).zfill(4)}\")\n",
    "df = df.set_index('pid')"
   ]
  },
  {
   "cell_type": "code",
   "execution_count": null,
   "id": "09a63845-c917-4af3-8687-521c4101e1c2",
   "metadata": {},
   "outputs": [],
   "source": [
    "df"
   ]
  },
  {
   "cell_type": "code",
   "execution_count": null,
   "id": "196b4923-248b-483f-a68d-0d77284b36f2",
   "metadata": {},
   "outputs": [],
   "source": []
  }
 ],
 "metadata": {
  "kernelspec": {
   "display_name": "Python 3 (ipykernel)",
   "language": "python",
   "name": "python3"
  },
  "language_info": {
   "codemirror_mode": {
    "name": "ipython",
    "version": 3
   },
   "file_extension": ".py",
   "mimetype": "text/x-python",
   "name": "python",
   "nbconvert_exporter": "python",
   "pygments_lexer": "ipython3",
   "version": "3.11.5"
  }
 },
 "nbformat": 4,
 "nbformat_minor": 5
}
